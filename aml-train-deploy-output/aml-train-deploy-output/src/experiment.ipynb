{
 "cells": [
  {
   "cell_type": "markdown",
   "metadata": {},
   "source": [
    "### Get data\n",
    "\n",
    "Gets the Fashion MNIST data from the cloud and saves it under the \"data\"\n",
    "directory."
   ]
  },
  {
   "cell_type": "code",
   "execution_count": 5,
   "metadata": {},
   "outputs": [
    {
     "data": {
      "text/plain": [
       "Dataset FashionMNIST\n",
       "    Number of datapoints: 10000\n",
       "    Root location: ../data\n",
       "    Split: Test\n",
       "    StandardTransform\n",
       "Transform: ToTensor()"
      ]
     },
     "execution_count": 5,
     "metadata": {},
     "output_type": "execute_result"
    }
   ],
   "source": [
    "from torchvision import datasets\n",
    "from torchvision.transforms import ToTensor\n",
    "\n",
    "DATA_DIR = \"../data\"\n",
    "\n",
    "datasets.FashionMNIST(\n",
    "    root=DATA_DIR,\n",
    "    train=True,\n",
    "    download=True,\n",
    "    transform=ToTensor(),\n",
    ")\n",
    "\n",
    "datasets.FashionMNIST(\n",
    "    root=DATA_DIR,\n",
    "    train=False,\n",
    "    download=True,\n",
    "    transform=ToTensor(),\n",
    ")\n"
   ]
  },
  {
   "cell_type": "markdown",
   "metadata": {},
   "source": [
    "### Train\n",
    "\n",
    "Splits the training data into training and validation sets, uses it to train\n",
    "the model, and saves it under the \"model\" directory."
   ]
  },
  {
   "cell_type": "code",
   "execution_count": 6,
   "metadata": {},
   "outputs": [
    {
     "name": "stdout",
     "output_type": "stream",
     "text": [
      "\n",
      "***Training***\n",
      "\n",
      "Epoch 1\n"
     ]
    },
    {
     "name": "stderr",
     "output_type": "stream",
     "text": [
      "100%|██████████| 750/750 [00:05<00:00, 126.38it/s]\n"
     ]
    },
    {
     "name": "stdout",
     "output_type": "stream",
     "text": [
      "Train loss: 0.010931, train accuracy:75.3%\n",
      "Validation loss: 0.008346, validation accuracy:81.0%\n",
      "\n",
      "-------------------------------\n",
      "\n",
      "Epoch 2\n"
     ]
    },
    {
     "name": "stderr",
     "output_type": "stream",
     "text": [
      "100%|██████████| 750/750 [00:06<00:00, 109.59it/s]\n"
     ]
    },
    {
     "name": "stdout",
     "output_type": "stream",
     "text": [
      "Train loss: 0.007664, train accuracy:82.7%\n",
      "Validation loss: 0.007162, validation accuracy:84.0%\n",
      "\n",
      "-------------------------------\n",
      "\n",
      "Epoch 3\n"
     ]
    },
    {
     "name": "stderr",
     "output_type": "stream",
     "text": [
      "100%|██████████| 750/750 [00:04<00:00, 152.65it/s]\n"
     ]
    },
    {
     "name": "stdout",
     "output_type": "stream",
     "text": [
      "Train loss: 0.006982, train accuracy:84.1%\n",
      "Validation loss: 0.006884, validation accuracy:84.7%\n",
      "\n",
      "-------------------------------\n",
      "\n",
      "Epoch 4\n"
     ]
    },
    {
     "name": "stderr",
     "output_type": "stream",
     "text": [
      "100%|██████████| 750/750 [00:04<00:00, 161.40it/s]\n"
     ]
    },
    {
     "name": "stdout",
     "output_type": "stream",
     "text": [
      "Train loss: 0.006576, train accuracy:85.1%\n",
      "Validation loss: 0.006642, validation accuracy:84.8%\n",
      "\n",
      "-------------------------------\n",
      "\n",
      "Epoch 5\n"
     ]
    },
    {
     "name": "stderr",
     "output_type": "stream",
     "text": [
      "100%|██████████| 750/750 [00:04<00:00, 151.98it/s]\n"
     ]
    },
    {
     "name": "stdout",
     "output_type": "stream",
     "text": [
      "Train loss: 0.006297, train accuracy:85.5%\n",
      "Validation loss: 0.006513, validation accuracy:85.4%\n",
      "\n",
      "-------------------------------\n",
      "\n",
      "Saving model to ../model/weights.pth\n"
     ]
    }
   ],
   "source": [
    "from pathlib import Path\n",
    "from typing import Tuple\n",
    "\n",
    "import torch\n",
    "from torch import nn\n",
    "from torch.utils.data import DataLoader, random_split\n",
    "from torchvision.transforms import ToTensor\n",
    "\n",
    "from neural_network import NeuralNetwork\n",
    "from utils_train_nn import fit, evaluate\n",
    "\n",
    "MODEL_DIR = \"../model\"\n",
    "\n",
    "def load_train_val_data(data_dir: str, batch_size: int, training_fraction: float\n",
    "    ) -> Tuple[DataLoader, DataLoader]:\n",
    "    \"\"\"\n",
    "    Returns two DataLoader objects that wrap training and validation data.\n",
    "    Training and validation data are extracted from the full original training\n",
    "    data, split according to training_fraction.\n",
    "    \"\"\"\n",
    "    full_train_data = datasets.FashionMNIST(data_dir,\n",
    "                                            train=True,\n",
    "                                            download=False,\n",
    "                                            transform=ToTensor())\n",
    "    full_train_len = len(full_train_data)\n",
    "    train_len = int(full_train_len * training_fraction)\n",
    "    val_len = full_train_len - train_len\n",
    "    (train_data, val_data) = random_split(dataset=full_train_data,\n",
    "                                          lengths=[train_len, val_len])\n",
    "    train_loader = DataLoader(train_data,\n",
    "                              batch_size=batch_size,\n",
    "                              shuffle=True)\n",
    "    val_loader = DataLoader(val_data,\n",
    "                            batch_size=batch_size,\n",
    "                            shuffle=True)\n",
    "\n",
    "    return (train_loader, val_loader)\n",
    "\n",
    "\n",
    "def train(data_dir: str, model_dir: str, device: str) -> None:\n",
    "    \"\"\"\n",
    "    Trains the model for a number of epochs, and saves it.\n",
    "    \"\"\"\n",
    "    learning_rate = 0.1\n",
    "    batch_size = 64\n",
    "    epochs = 5\n",
    "\n",
    "    (train_dataloader, val_dataloader) = load_train_val_data(data_dir,\n",
    "        batch_size, 0.8)\n",
    "\n",
    "    model = NeuralNetwork()\n",
    "    loss_fn = nn.CrossEntropyLoss()\n",
    "    optimizer = torch.optim.SGD(model.parameters(), lr=learning_rate)\n",
    "\n",
    "    print(\"\\n***Training***\")\n",
    "    for epoch in range(epochs):\n",
    "        print(f\"\\nEpoch {epoch + 1}\")\n",
    "\n",
    "        (training_loss, training_accuracy) = fit(device, train_dataloader,\n",
    "                                                 model, loss_fn, optimizer)\n",
    "        print(f\"Train loss: {training_loss:8f}, train accuracy:\" +\n",
    "            f\"{training_accuracy * 100:0.1f}%\")\n",
    "        \n",
    "        (validation_loss, validation_accuracy) = evaluate(device,\n",
    "            val_dataloader, model, loss_fn)\n",
    "        print(f\"Validation loss: {validation_loss:8f}, validation accuracy:\" +\n",
    "            f\"{validation_accuracy * 100:0.1f}%\")\n",
    "\n",
    "        print(\"\\n-------------------------------\")\n",
    "\n",
    "    save_model(model_dir, model)\n",
    "\n",
    "\n",
    "def save_model(model_dir, model: nn.Module) -> None:\n",
    "    \"\"\"\n",
    "    Saves the trained model.\n",
    "    \"\"\"\n",
    "    Path(model_dir).mkdir(parents=True, exist_ok=True)\n",
    "    path = Path(model_dir, \"weights.pth\")\n",
    "    print(f\"\\nSaving model to {path}\")\n",
    "    torch.save(model.state_dict(), path)\n",
    "\n",
    "\n",
    "device = \"cuda\" if torch.cuda.is_available() else \"cpu\"\n",
    "train(DATA_DIR, MODEL_DIR, device)"
   ]
  },
  {
   "cell_type": "markdown",
   "metadata": {},
   "source": [
    "### Test with test data\n",
    "\n",
    "Checks the loss and accuracy using our test data. "
   ]
  },
  {
   "cell_type": "code",
   "execution_count": 7,
   "metadata": {},
   "outputs": [
    {
     "name": "stdout",
     "output_type": "stream",
     "text": [
      "\n",
      "***Evaluating***\n",
      "Test loss: 0.006899, test accuracy: 84.7%\n"
     ]
    }
   ],
   "source": [
    "batch_size = 64\n",
    "\n",
    "test_data = datasets.FashionMNIST(DATA_DIR,\n",
    "                                  train=False,\n",
    "                                  download=False,\n",
    "                                  transform=ToTensor())\n",
    "test_loader = DataLoader(test_data,\n",
    "                         batch_size=batch_size,\n",
    "                         shuffle=True)\n",
    "\n",
    "model = NeuralNetwork()\n",
    "model_path = Path(MODEL_DIR, \"weights.pth\")\n",
    "model.load_state_dict(torch.load(model_path))\n",
    "\n",
    "loss_fn = nn.CrossEntropyLoss()\n",
    "\n",
    "print('\\n***Evaluating***')\n",
    "(test_loss, test_accuracy) = evaluate(device, test_loader, model, loss_fn)\n",
    "print(f'Test loss: {test_loss:>8f}, ' +\n",
    "    f'test accuracy: {test_accuracy * 100:>0.1f}%')"
   ]
  },
  {
   "cell_type": "markdown",
   "metadata": {},
   "source": [
    "### Make a prediction with a single image\n",
    "\n",
    "Opens the image in the \"test_image\" folder and predicts its label."
   ]
  },
  {
   "cell_type": "code",
   "execution_count": 8,
   "metadata": {},
   "outputs": [
    {
     "name": "stdout",
     "output_type": "stream",
     "text": [
      "Ankle Boot\n"
     ]
    }
   ],
   "source": [
    "from PIL import Image\n",
    "import numpy as np\n",
    "\n",
    "from utils_score import predict\n",
    "\n",
    "TEST_IMAGE_DIR = \"../test_image\"\n",
    "LABELS_MAP = {\n",
    "    0: \"T-Shirt\",\n",
    "    1: \"Trouser\",\n",
    "    2: \"Pullover\",\n",
    "    3: \"Dress\",\n",
    "    4: \"Coat\",\n",
    "    5: \"Sandal\",\n",
    "    6: \"Shirt\",\n",
    "    7: \"Sneaker\",\n",
    "    8: \"Bag\",\n",
    "    9: \"Ankle Boot\",\n",
    "}\n",
    "\n",
    "test_image_path = Path(TEST_IMAGE_DIR, \"predict_image.png\")\n",
    "\n",
    "with Image.open(test_image_path) as image:\n",
    "    x = np.asarray(image).reshape((-1, 28, 28)) / 255.0\n",
    "\n",
    "predicted_index = predict(model, x, device)[0]\n",
    "predicted_class = LABELS_MAP[predicted_index]\n",
    "print(predicted_class)"
   ]
  },
  {
   "cell_type": "markdown",
   "metadata": {},
   "source": [
    "### Generate sample data in csv for local mlflow prediction"
   ]
  },
  {
   "cell_type": "code",
   "execution_count": 9,
   "metadata": {},
   "outputs": [],
   "source": [
    "delimiter = \",\"\n",
    "fmt = \"%.6f\"\n",
    "with Image.open(test_image_path) as image:\n",
    "    x = np.asarray(image).reshape((1, -1)) / 255.0\n",
    "    header = delimiter.join([f\"col_{i}\" for i in range(x.shape[1])])\n",
    "    np.savetxt(fname=Path(TEST_IMAGE_DIR, \"predict_image.csv\"),\n",
    "        X=x, delimiter=delimiter, fmt=fmt, header=header)\n"
   ]
  },
  {
   "cell_type": "markdown",
   "metadata": {},
   "source": [
    "### Generate sample data in json for local mlflow prediction"
   ]
  },
  {
   "cell_type": "code",
   "execution_count": 10,
   "metadata": {},
   "outputs": [],
   "source": [
    "from pandas import DataFrame\n",
    "\n",
    "with Image.open(test_image_path) as image:\n",
    "    x = np.asarray(image).reshape((1, -1)) / 255.0\n",
    "\n",
    "    column_names = [f\"col_{i}\" for i in range(x.shape[1])]\n",
    "    df = DataFrame(data=x, columns=column_names)\n",
    "\n",
    "    data_json = df.to_json(orient=\"split\")\n",
    "    with open(Path(TEST_IMAGE_DIR, \"predict_image.json\"), \"wt\", encoding=\"utf-8\") as file:\n",
    "        file.write(data_json)"
   ]
  },
  {
   "cell_type": "markdown",
   "metadata": {},
   "source": [
    "### Generate sample data in json for Azure ML prediction"
   ]
  },
  {
   "cell_type": "code",
   "execution_count": 15,
   "metadata": {},
   "outputs": [],
   "source": [
    "import json\n",
    "\n",
    "with Image.open(test_image_path) as image:\n",
    "    x = np.asarray(image).reshape((1, -1)) / 255.0\n",
    "\n",
    "    column_names = [f\"col_{i}\" for i in range(x.shape[1])]\n",
    "    df = DataFrame(data=x, columns=column_names)\n",
    "\n",
    "    data_json = '{\"input_data\":' + df.to_json(orient=\"split\") + '}'\n",
    "    with open(Path(TEST_IMAGE_DIR, \"predict_image_azureml.json\"), \"wt\", encoding=\"utf-8\") as file:\n",
    "        file.write(data_json)"
   ]
  }
 ],
 "metadata": {
  "interpreter": {
   "hash": "840bafce6ddc33855b1a9dbcfcf032674e17557112230697627421a94b2647b3"
  },
  "kernelspec": {
   "display_name": "Python 3.9.5 ('fashion-mnist-aml-basic')",
   "language": "python",
   "name": "python3"
  },
  "language_info": {
   "codemirror_mode": {
    "name": "ipython",
    "version": 3
   },
   "file_extension": ".py",
   "mimetype": "text/x-python",
   "name": "python",
   "nbconvert_exporter": "python",
   "pygments_lexer": "ipython3",
   "version": "3.9.5"
  },
  "orig_nbformat": 4
 },
 "nbformat": 4,
 "nbformat_minor": 2
}
